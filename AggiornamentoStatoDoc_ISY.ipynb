{
 "cells": [
  {
   "cell_type": "code",
   "execution_count": 1,
   "metadata": {},
   "outputs": [],
   "source": [
    "import numpy as np\n",
    "import pandas as pd\n",
    "import random as rdm"
   ]
  },
  {
   "cell_type": "code",
   "execution_count": 3,
   "metadata": {},
   "outputs": [
    {
     "data": {
      "text/html": [
       "<div>\n",
       "<style scoped>\n",
       "    .dataframe tbody tr th:only-of-type {\n",
       "        vertical-align: middle;\n",
       "    }\n",
       "\n",
       "    .dataframe tbody tr th {\n",
       "        vertical-align: top;\n",
       "    }\n",
       "\n",
       "    .dataframe thead th {\n",
       "        text-align: right;\n",
       "    }\n",
       "</style>\n",
       "<table border=\"1\" class=\"dataframe\">\n",
       "  <thead>\n",
       "    <tr style=\"text-align: right;\">\n",
       "      <th></th>\n",
       "      <th>NDG</th>\n",
       "      <th>NDOC</th>\n",
       "    </tr>\n",
       "  </thead>\n",
       "  <tbody>\n",
       "    <tr>\n",
       "      <th>0</th>\n",
       "      <td>0005132466666000</td>\n",
       "      <td>ZM56325026</td>\n",
       "    </tr>\n",
       "    <tr>\n",
       "      <th>1</th>\n",
       "      <td>0005132466668000</td>\n",
       "      <td>ZK47766562</td>\n",
       "    </tr>\n",
       "    <tr>\n",
       "      <th>2</th>\n",
       "      <td>0005132466669000</td>\n",
       "      <td>ZG88142851</td>\n",
       "    </tr>\n",
       "    <tr>\n",
       "      <th>3</th>\n",
       "      <td>0005132466671000</td>\n",
       "      <td>ZS98423634</td>\n",
       "    </tr>\n",
       "    <tr>\n",
       "      <th>4</th>\n",
       "      <td>0005132466630000</td>\n",
       "      <td>ZN46421251</td>\n",
       "    </tr>\n",
       "  </tbody>\n",
       "</table>\n",
       "</div>"
      ],
      "text/plain": [
       "                NDG        NDOC\n",
       "0  0005132466666000  ZM56325026\n",
       "1  0005132466668000  ZK47766562\n",
       "2  0005132466669000  ZG88142851\n",
       "3  0005132466671000  ZS98423634\n",
       "4  0005132466630000  ZN46421251"
      ]
     },
     "execution_count": 3,
     "metadata": {},
     "output_type": "execute_result"
    }
   ],
   "source": [
    "df = pd.read_excel('/Users/giuseppecrupi/Desktop/Reply/0612StatoDoc_input.xlsx', dtype=str)\n",
    "df.head()"
   ]
  },
  {
   "cell_type": "code",
   "execution_count": 4,
   "metadata": {},
   "outputs": [
    {
     "data": {
      "text/plain": [
       "(20, 2)"
      ]
     },
     "execution_count": 4,
     "metadata": {},
     "output_type": "execute_result"
    }
   ],
   "source": [
    "df.shape"
   ]
  },
  {
   "cell_type": "code",
   "execution_count": 6,
   "metadata": {},
   "outputs": [],
   "source": [
    "part1 = '<S:Envelope xmlns:S=\"http://schemas.xmlsoap.org/soap/envelope/\">\\n\\\n",
    "<S:Header>\\n\\\n",
    "<ns4:ISPWebservicesHeader xmlns:ns2=\"http://ws.componiblesrv.dian0.di.intesasanpaolo.com/DIAN0/DIAFIDV01C/\" xmlns:ns3=\"http://ws.intesasanpaolo.com/\" xmlns:ns4=\"http://intesasanpaolo.it/\">\\n\\\n",
    "<RequestInfo>\\n\\\n",
    "<TransactionId>DIAFIDV01C1_05032021_1626</TransactionId>\\n\\\n",
    "<Timestamp>2021019154059</Timestamp>\\n\\\n",
    "<ServiceID>DIAFIDV01C</ServiceID>\\n\\\n",
    "<ServiceVersion>00</ServiceVersion>\\n\\\n",
    "</RequestInfo>\\n\\\n",
    "<OperatorInfo IsVirtualUser=\"false\" UserID=\"U423829\"/>\\n\\\n",
    "<CompanyInfo>\\n\\\n",
    "<ISPCallerCompanyIDCode>35</ISPCallerCompanyIDCode>\\n\\\n",
    "<ISPBranchCode>00001</ISPBranchCode>\\n\\\n",
    "<ISPServiceCompanyIDCode>35</ISPServiceCompanyIDCode>\\n\\\n",
    "</CompanyInfo>\\n\\\n",
    "<BusinessInfo>\\n\\\n",
    "<CustomerID>00700GAIMW03</CustomerID>\\n\\\n",
    "</BusinessInfo>\\n\\\n",
    "<TechnicalInfo>\\n\\\n",
    "<ChannelIDCode>CH</ChannelIDCode>\\n\\\n",
    "<ApplicationID>MWFM0</ApplicationID>\\n\\\n",
    "<CallerServerName>salclt7050</CallerServerName>\\n\\\n",
    "<CallerProgramName>MB</CallerProgramName>\\n\\\n",
    "</TechnicalInfo>\\n\\\n",
    "<AdditionalBusinessInfo>\\n\\\n",
    "<Param Name=\"CodABI\" Value=\"03385\"/>\\n\\\n",
    "<Param Name=\"CodUnitaOperativa\" Value=\"00001\"/>\\n\\\n",
    "</AdditionalBusinessInfo>\\n\\\n",
    "</ns4:ISPWebservicesHeader>\\n\\\n",
    "</S:Header>\\n\\\n",
    "<S:Body>\\n\\\n",
    "<ns2:GestioneDocumentiRequest xmlns:ns2=\"http://ws.componiblesrv.dian0.di.intesasanpaolo.com/DIAN0/DIAFIDV01C/\" xmlns:ns3=\"http://ws.intesasanpaolo.com/\" xmlns:ns4=\"http://intesasanpaolo.it/\">\\n\\\n",
    "<FUNZIONE>V</FUNZIONE>\\n\\\n",
    "<TIPO-CHIAMANTE>01</TIPO-CHIAMANTE>\\n\\\n",
    "<RUOLO>CUST</RUOLO>\\n\\\n",
    "<LINGUA>IT</LINGUA>\\n\\\n",
    "<GRUPPO>ISP</GRUPPO>\\n\\\n",
    "<AZIENDA>03385</AZIENDA>\\n\\\n",
    "<NDG>'\n",
    "\n",
    "\n",
    "part2 = '</NDG>\\n\\\n",
    "<COD-DOCUM-IDEN>CAR</COD-DOCUM-IDEN>\\n\\\n",
    "<NUM-DOCUM-IDEN>'\n",
    "\n",
    "\n",
    "part3 = '</NUM-DOCUM-IDEN>\\n\\\n",
    "<DATA-RIL-DOC>20190105</DATA-RIL-DOC>\\n\\\n",
    "<DATA-PRES-DOC/>\\n\\\n",
    "<DATA-SCAD-DOC>20290105</DATA-SCAD-DOC>\\n\\\n",
    "<LOCALITA_DOC_1>TORINO</LOCALITA_DOC_1>\\n\\\n",
    "<LOCALITA_PROV_DOC>TO</LOCALITA_PROV_DOC>\\n\\\n",
    "<DESCR_STATO_DOC>ITALIA</DESCR_STATO_DOC>\\n\\\n",
    "<NOTE-DOC/>\\n\\\n",
    "<DESCR-STATO-ENTE>COMUNE</DESCR-STATO-ENTE>\\n\\\n",
    "<NDG-PRES-DOC></NDG-PRES-DOC>\\n\\\n",
    "<CDN-PRES-DOC/>\\n\\\n",
    "<SPORTELLO-ESEC>00001</SPORTELLO-ESEC>\\n\\\n",
    "<CERTIFICATO-DOC>V</CERTIFICATO-DOC>\\n\\\n",
    "<DATA-CERTIFICATO-DOC>20221201</DATA-CERTIFICATO-DOC>\\n\\\n",
    "<OPERATORE-DOC>U423829</OPERATORE-DOC>\\n\\\n",
    "<DATA-CERTIFIC-DOC>20221201</DATA-CERTIFIC-DOC>\\n\\\n",
    "<ID-FILE-EX>000000F0000ae0'\n",
    "\n",
    "\n",
    "part4 = '</ID-FILE-EX>\\n\\\n",
    "</ns2:GestioneDocumentiRequest>\\n\\\n",
    "</S:Body>\\n\\\n",
    "</S:Envelope>'"
   ]
  },
  {
   "cell_type": "code",
   "execution_count": 7,
   "metadata": {
    "scrolled": true
   },
   "outputs": [],
   "source": [
    "calls = []\n",
    "id_file = 29\n",
    "for i in range(len(df)):\n",
    "    ndg, ndoc = df['NDG'][i], df['NDOC'][i]\n",
    "    call = part1+ndg+part2+ndoc+part3+str(id_file)+part4\n",
    "    id_file+=1\n",
    "    calls.append(call)"
   ]
  },
  {
   "cell_type": "code",
   "execution_count": 8,
   "metadata": {},
   "outputs": [
    {
     "data": {
      "text/plain": [
       "'<S:Envelope xmlns:S=\"http://schemas.xmlsoap.org/soap/envelope/\">\\n<S:Header>\\n<ns4:ISPWebservicesHeader xmlns:ns2=\"http://ws.componiblesrv.dian0.di.intesasanpaolo.com/DIAN0/DIAFIDV01C/\" xmlns:ns3=\"http://ws.intesasanpaolo.com/\" xmlns:ns4=\"http://intesasanpaolo.it/\">\\n<RequestInfo>\\n<TransactionId>DIAFIDV01C1_05032021_1626</TransactionId>\\n<Timestamp>2021019154059</Timestamp>\\n<ServiceID>DIAFIDV01C</ServiceID>\\n<ServiceVersion>00</ServiceVersion>\\n</RequestInfo>\\n<OperatorInfo IsVirtualUser=\"false\" UserID=\"U423829\"/>\\n<CompanyInfo>\\n<ISPCallerCompanyIDCode>35</ISPCallerCompanyIDCode>\\n<ISPBranchCode>00001</ISPBranchCode>\\n<ISPServiceCompanyIDCode>35</ISPServiceCompanyIDCode>\\n</CompanyInfo>\\n<BusinessInfo>\\n<CustomerID>00700GAIMW03</CustomerID>\\n</BusinessInfo>\\n<TechnicalInfo>\\n<ChannelIDCode>CH</ChannelIDCode>\\n<ApplicationID>MWFM0</ApplicationID>\\n<CallerServerName>salclt7050</CallerServerName>\\n<CallerProgramName>MB</CallerProgramName>\\n</TechnicalInfo>\\n<AdditionalBusinessInfo>\\n<Param Name=\"CodABI\" Value=\"03385\"/>\\n<Param Name=\"CodUnitaOperativa\" Value=\"00001\"/>\\n</AdditionalBusinessInfo>\\n</ns4:ISPWebservicesHeader>\\n</S:Header>\\n<S:Body>\\n<ns2:GestioneDocumentiRequest xmlns:ns2=\"http://ws.componiblesrv.dian0.di.intesasanpaolo.com/DIAN0/DIAFIDV01C/\" xmlns:ns3=\"http://ws.intesasanpaolo.com/\" xmlns:ns4=\"http://intesasanpaolo.it/\">\\n<FUNZIONE>V</FUNZIONE>\\n<TIPO-CHIAMANTE>01</TIPO-CHIAMANTE>\\n<RUOLO>CUST</RUOLO>\\n<LINGUA>IT</LINGUA>\\n<GRUPPO>ISP</GRUPPO>\\n<AZIENDA>03385</AZIENDA>\\n<NDG>0005132466666000</NDG>\\n<COD-DOCUM-IDEN>CAR</COD-DOCUM-IDEN>\\n<NUM-DOCUM-IDEN>ZM56325026</NUM-DOCUM-IDEN>\\n<DATA-RIL-DOC>20190105</DATA-RIL-DOC>\\n<DATA-PRES-DOC/>\\n<DATA-SCAD-DOC>20290105</DATA-SCAD-DOC>\\n<LOCALITA_DOC_1>TORINO</LOCALITA_DOC_1>\\n<LOCALITA_PROV_DOC>TO</LOCALITA_PROV_DOC>\\n<DESCR_STATO_DOC>ITALIA</DESCR_STATO_DOC>\\n<NOTE-DOC/>\\n<DESCR-STATO-ENTE>COMUNE</DESCR-STATO-ENTE>\\n<NDG-PRES-DOC></NDG-PRES-DOC>\\n<CDN-PRES-DOC/>\\n<SPORTELLO-ESEC>00001</SPORTELLO-ESEC>\\n<CERTIFICATO-DOC>V</CERTIFICATO-DOC>\\n<DATA-CERTIFICATO-DOC>20221201</DATA-CERTIFICATO-DOC>\\n<OPERATORE-DOC>U423829</OPERATORE-DOC>\\n<DATA-CERTIFIC-DOC>20221201</DATA-CERTIFIC-DOC>\\n<ID-FILE-EX>000000F0000ae029</ID-FILE-EX>\\n</ns2:GestioneDocumentiRequest>\\n</S:Body>\\n</S:Envelope>'"
      ]
     },
     "execution_count": 8,
     "metadata": {},
     "output_type": "execute_result"
    }
   ],
   "source": [
    "calls[0]"
   ]
  },
  {
   "cell_type": "code",
   "execution_count": 9,
   "metadata": {},
   "outputs": [],
   "source": [
    "calls = pd.Series(calls)\n",
    "calls.name = 'CALL'"
   ]
  },
  {
   "cell_type": "code",
   "execution_count": 10,
   "metadata": {},
   "outputs": [
    {
     "data": {
      "text/plain": [
       "RangeIndex(start=0, stop=20, step=1)"
      ]
     },
     "execution_count": 10,
     "metadata": {},
     "output_type": "execute_result"
    }
   ],
   "source": [
    "df.index"
   ]
  },
  {
   "cell_type": "code",
   "execution_count": 11,
   "metadata": {},
   "outputs": [
    {
     "data": {
      "text/plain": [
       "RangeIndex(start=0, stop=20, step=1)"
      ]
     },
     "execution_count": 11,
     "metadata": {},
     "output_type": "execute_result"
    }
   ],
   "source": [
    "calls.index"
   ]
  },
  {
   "cell_type": "code",
   "execution_count": 12,
   "metadata": {},
   "outputs": [],
   "source": [
    "df = pd.concat([df,calls],axis=1)"
   ]
  },
  {
   "cell_type": "code",
   "execution_count": 13,
   "metadata": {},
   "outputs": [
    {
     "data": {
      "text/html": [
       "<div>\n",
       "<style scoped>\n",
       "    .dataframe tbody tr th:only-of-type {\n",
       "        vertical-align: middle;\n",
       "    }\n",
       "\n",
       "    .dataframe tbody tr th {\n",
       "        vertical-align: top;\n",
       "    }\n",
       "\n",
       "    .dataframe thead th {\n",
       "        text-align: right;\n",
       "    }\n",
       "</style>\n",
       "<table border=\"1\" class=\"dataframe\">\n",
       "  <thead>\n",
       "    <tr style=\"text-align: right;\">\n",
       "      <th></th>\n",
       "      <th>NDG</th>\n",
       "      <th>NDOC</th>\n",
       "      <th>CALL</th>\n",
       "    </tr>\n",
       "  </thead>\n",
       "  <tbody>\n",
       "    <tr>\n",
       "      <th>0</th>\n",
       "      <td>0005132466666000</td>\n",
       "      <td>ZM56325026</td>\n",
       "      <td>&lt;S:Envelope xmlns:S=\"http://schemas.xmlsoap.or...</td>\n",
       "    </tr>\n",
       "    <tr>\n",
       "      <th>1</th>\n",
       "      <td>0005132466668000</td>\n",
       "      <td>ZK47766562</td>\n",
       "      <td>&lt;S:Envelope xmlns:S=\"http://schemas.xmlsoap.or...</td>\n",
       "    </tr>\n",
       "    <tr>\n",
       "      <th>2</th>\n",
       "      <td>0005132466669000</td>\n",
       "      <td>ZG88142851</td>\n",
       "      <td>&lt;S:Envelope xmlns:S=\"http://schemas.xmlsoap.or...</td>\n",
       "    </tr>\n",
       "    <tr>\n",
       "      <th>3</th>\n",
       "      <td>0005132466671000</td>\n",
       "      <td>ZS98423634</td>\n",
       "      <td>&lt;S:Envelope xmlns:S=\"http://schemas.xmlsoap.or...</td>\n",
       "    </tr>\n",
       "    <tr>\n",
       "      <th>4</th>\n",
       "      <td>0005132466630000</td>\n",
       "      <td>ZN46421251</td>\n",
       "      <td>&lt;S:Envelope xmlns:S=\"http://schemas.xmlsoap.or...</td>\n",
       "    </tr>\n",
       "  </tbody>\n",
       "</table>\n",
       "</div>"
      ],
      "text/plain": [
       "                NDG        NDOC  \\\n",
       "0  0005132466666000  ZM56325026   \n",
       "1  0005132466668000  ZK47766562   \n",
       "2  0005132466669000  ZG88142851   \n",
       "3  0005132466671000  ZS98423634   \n",
       "4  0005132466630000  ZN46421251   \n",
       "\n",
       "                                                CALL  \n",
       "0  <S:Envelope xmlns:S=\"http://schemas.xmlsoap.or...  \n",
       "1  <S:Envelope xmlns:S=\"http://schemas.xmlsoap.or...  \n",
       "2  <S:Envelope xmlns:S=\"http://schemas.xmlsoap.or...  \n",
       "3  <S:Envelope xmlns:S=\"http://schemas.xmlsoap.or...  \n",
       "4  <S:Envelope xmlns:S=\"http://schemas.xmlsoap.or...  "
      ]
     },
     "execution_count": 13,
     "metadata": {},
     "output_type": "execute_result"
    }
   ],
   "source": [
    "df.head()"
   ]
  },
  {
   "cell_type": "code",
   "execution_count": 14,
   "metadata": {},
   "outputs": [],
   "source": [
    "df.to_excel('/Users/giuseppecrupi/Desktop/Reply/0612StatoDoc_output.xlsx')"
   ]
  },
  {
   "cell_type": "code",
   "execution_count": null,
   "metadata": {},
   "outputs": [],
   "source": []
  },
  {
   "cell_type": "code",
   "execution_count": null,
   "metadata": {},
   "outputs": [],
   "source": []
  },
  {
   "cell_type": "code",
   "execution_count": null,
   "metadata": {},
   "outputs": [],
   "source": []
  },
  {
   "cell_type": "code",
   "execution_count": null,
   "metadata": {},
   "outputs": [],
   "source": []
  },
  {
   "cell_type": "code",
   "execution_count": null,
   "metadata": {},
   "outputs": [],
   "source": []
  },
  {
   "cell_type": "code",
   "execution_count": 66,
   "metadata": {},
   "outputs": [],
   "source": [
    "counter = 29"
   ]
  },
  {
   "cell_type": "code",
   "execution_count": 70,
   "metadata": {},
   "outputs": [],
   "source": [
    "def call_function(x):\n",
    "    ndg, ndoc = x['NDG'], x['NDOC']\n",
    "    to_return = part1+ndg+part2+ndoc+part3+str(counter)+part4\n",
    "    counter += 1\n",
    "    return to_return"
   ]
  },
  {
   "cell_type": "code",
   "execution_count": 71,
   "metadata": {},
   "outputs": [
    {
     "ename": "UnboundLocalError",
     "evalue": "(\"local variable 'counter' referenced before assignment\", 'occurred at index 0')",
     "output_type": "error",
     "traceback": [
      "\u001b[0;31m---------------------------------------------------------------------------\u001b[0m",
      "\u001b[0;31mUnboundLocalError\u001b[0m                         Traceback (most recent call last)",
      "\u001b[0;32m<ipython-input-71-2facda94a836>\u001b[0m in \u001b[0;36m<module>\u001b[0;34m\u001b[0m\n\u001b[0;32m----> 1\u001b[0;31m \u001b[0mdf\u001b[0m\u001b[0;34m[\u001b[0m\u001b[0;34m'CALL'\u001b[0m\u001b[0;34m]\u001b[0m \u001b[0;34m=\u001b[0m \u001b[0mdf\u001b[0m\u001b[0;34m.\u001b[0m\u001b[0mapply\u001b[0m\u001b[0;34m(\u001b[0m\u001b[0;32mlambda\u001b[0m \u001b[0mx\u001b[0m\u001b[0;34m:\u001b[0m \u001b[0mcall_function\u001b[0m\u001b[0;34m(\u001b[0m\u001b[0mx\u001b[0m\u001b[0;34m)\u001b[0m\u001b[0;34m,\u001b[0m \u001b[0maxis\u001b[0m\u001b[0;34m=\u001b[0m\u001b[0;36m1\u001b[0m\u001b[0;34m)\u001b[0m\u001b[0;34m\u001b[0m\u001b[0;34m\u001b[0m\u001b[0m\n\u001b[0m",
      "\u001b[0;32m~/anaconda3/lib/python3.7/site-packages/pandas/core/frame.py\u001b[0m in \u001b[0;36mapply\u001b[0;34m(self, func, axis, broadcast, raw, reduce, result_type, args, **kwds)\u001b[0m\n\u001b[1;32m   6485\u001b[0m                          \u001b[0margs\u001b[0m\u001b[0;34m=\u001b[0m\u001b[0margs\u001b[0m\u001b[0;34m,\u001b[0m\u001b[0;34m\u001b[0m\u001b[0;34m\u001b[0m\u001b[0m\n\u001b[1;32m   6486\u001b[0m                          kwds=kwds)\n\u001b[0;32m-> 6487\u001b[0;31m         \u001b[0;32mreturn\u001b[0m \u001b[0mop\u001b[0m\u001b[0;34m.\u001b[0m\u001b[0mget_result\u001b[0m\u001b[0;34m(\u001b[0m\u001b[0;34m)\u001b[0m\u001b[0;34m\u001b[0m\u001b[0;34m\u001b[0m\u001b[0m\n\u001b[0m\u001b[1;32m   6488\u001b[0m \u001b[0;34m\u001b[0m\u001b[0m\n\u001b[1;32m   6489\u001b[0m     \u001b[0;32mdef\u001b[0m \u001b[0mapplymap\u001b[0m\u001b[0;34m(\u001b[0m\u001b[0mself\u001b[0m\u001b[0;34m,\u001b[0m \u001b[0mfunc\u001b[0m\u001b[0;34m)\u001b[0m\u001b[0;34m:\u001b[0m\u001b[0;34m\u001b[0m\u001b[0;34m\u001b[0m\u001b[0m\n",
      "\u001b[0;32m~/anaconda3/lib/python3.7/site-packages/pandas/core/apply.py\u001b[0m in \u001b[0;36mget_result\u001b[0;34m(self)\u001b[0m\n\u001b[1;32m    149\u001b[0m             \u001b[0;32mreturn\u001b[0m \u001b[0mself\u001b[0m\u001b[0;34m.\u001b[0m\u001b[0mapply_raw\u001b[0m\u001b[0;34m(\u001b[0m\u001b[0;34m)\u001b[0m\u001b[0;34m\u001b[0m\u001b[0;34m\u001b[0m\u001b[0m\n\u001b[1;32m    150\u001b[0m \u001b[0;34m\u001b[0m\u001b[0m\n\u001b[0;32m--> 151\u001b[0;31m         \u001b[0;32mreturn\u001b[0m \u001b[0mself\u001b[0m\u001b[0;34m.\u001b[0m\u001b[0mapply_standard\u001b[0m\u001b[0;34m(\u001b[0m\u001b[0;34m)\u001b[0m\u001b[0;34m\u001b[0m\u001b[0;34m\u001b[0m\u001b[0m\n\u001b[0m\u001b[1;32m    152\u001b[0m \u001b[0;34m\u001b[0m\u001b[0m\n\u001b[1;32m    153\u001b[0m     \u001b[0;32mdef\u001b[0m \u001b[0mapply_empty_result\u001b[0m\u001b[0;34m(\u001b[0m\u001b[0mself\u001b[0m\u001b[0;34m)\u001b[0m\u001b[0;34m:\u001b[0m\u001b[0;34m\u001b[0m\u001b[0;34m\u001b[0m\u001b[0m\n",
      "\u001b[0;32m~/anaconda3/lib/python3.7/site-packages/pandas/core/apply.py\u001b[0m in \u001b[0;36mapply_standard\u001b[0;34m(self)\u001b[0m\n\u001b[1;32m    255\u001b[0m \u001b[0;34m\u001b[0m\u001b[0m\n\u001b[1;32m    256\u001b[0m         \u001b[0;31m# compute the result using the series generator\u001b[0m\u001b[0;34m\u001b[0m\u001b[0;34m\u001b[0m\u001b[0;34m\u001b[0m\u001b[0m\n\u001b[0;32m--> 257\u001b[0;31m         \u001b[0mself\u001b[0m\u001b[0;34m.\u001b[0m\u001b[0mapply_series_generator\u001b[0m\u001b[0;34m(\u001b[0m\u001b[0;34m)\u001b[0m\u001b[0;34m\u001b[0m\u001b[0;34m\u001b[0m\u001b[0m\n\u001b[0m\u001b[1;32m    258\u001b[0m \u001b[0;34m\u001b[0m\u001b[0m\n\u001b[1;32m    259\u001b[0m         \u001b[0;31m# wrap results\u001b[0m\u001b[0;34m\u001b[0m\u001b[0;34m\u001b[0m\u001b[0;34m\u001b[0m\u001b[0m\n",
      "\u001b[0;32m~/anaconda3/lib/python3.7/site-packages/pandas/core/apply.py\u001b[0m in \u001b[0;36mapply_series_generator\u001b[0;34m(self)\u001b[0m\n\u001b[1;32m    284\u001b[0m             \u001b[0;32mtry\u001b[0m\u001b[0;34m:\u001b[0m\u001b[0;34m\u001b[0m\u001b[0;34m\u001b[0m\u001b[0m\n\u001b[1;32m    285\u001b[0m                 \u001b[0;32mfor\u001b[0m \u001b[0mi\u001b[0m\u001b[0;34m,\u001b[0m \u001b[0mv\u001b[0m \u001b[0;32min\u001b[0m \u001b[0menumerate\u001b[0m\u001b[0;34m(\u001b[0m\u001b[0mseries_gen\u001b[0m\u001b[0;34m)\u001b[0m\u001b[0;34m:\u001b[0m\u001b[0;34m\u001b[0m\u001b[0;34m\u001b[0m\u001b[0m\n\u001b[0;32m--> 286\u001b[0;31m                     \u001b[0mresults\u001b[0m\u001b[0;34m[\u001b[0m\u001b[0mi\u001b[0m\u001b[0;34m]\u001b[0m \u001b[0;34m=\u001b[0m \u001b[0mself\u001b[0m\u001b[0;34m.\u001b[0m\u001b[0mf\u001b[0m\u001b[0;34m(\u001b[0m\u001b[0mv\u001b[0m\u001b[0;34m)\u001b[0m\u001b[0;34m\u001b[0m\u001b[0;34m\u001b[0m\u001b[0m\n\u001b[0m\u001b[1;32m    287\u001b[0m                     \u001b[0mkeys\u001b[0m\u001b[0;34m.\u001b[0m\u001b[0mappend\u001b[0m\u001b[0;34m(\u001b[0m\u001b[0mv\u001b[0m\u001b[0;34m.\u001b[0m\u001b[0mname\u001b[0m\u001b[0;34m)\u001b[0m\u001b[0;34m\u001b[0m\u001b[0;34m\u001b[0m\u001b[0m\n\u001b[1;32m    288\u001b[0m             \u001b[0;32mexcept\u001b[0m \u001b[0mException\u001b[0m \u001b[0;32mas\u001b[0m \u001b[0me\u001b[0m\u001b[0;34m:\u001b[0m\u001b[0;34m\u001b[0m\u001b[0;34m\u001b[0m\u001b[0m\n",
      "\u001b[0;32m<ipython-input-71-2facda94a836>\u001b[0m in \u001b[0;36m<lambda>\u001b[0;34m(x)\u001b[0m\n\u001b[0;32m----> 1\u001b[0;31m \u001b[0mdf\u001b[0m\u001b[0;34m[\u001b[0m\u001b[0;34m'CALL'\u001b[0m\u001b[0;34m]\u001b[0m \u001b[0;34m=\u001b[0m \u001b[0mdf\u001b[0m\u001b[0;34m.\u001b[0m\u001b[0mapply\u001b[0m\u001b[0;34m(\u001b[0m\u001b[0;32mlambda\u001b[0m \u001b[0mx\u001b[0m\u001b[0;34m:\u001b[0m \u001b[0mcall_function\u001b[0m\u001b[0;34m(\u001b[0m\u001b[0mx\u001b[0m\u001b[0;34m)\u001b[0m\u001b[0;34m,\u001b[0m \u001b[0maxis\u001b[0m\u001b[0;34m=\u001b[0m\u001b[0;36m1\u001b[0m\u001b[0;34m)\u001b[0m\u001b[0;34m\u001b[0m\u001b[0;34m\u001b[0m\u001b[0m\n\u001b[0m",
      "\u001b[0;32m<ipython-input-70-cf1e4cc9b582>\u001b[0m in \u001b[0;36mcall_function\u001b[0;34m(x)\u001b[0m\n\u001b[1;32m      1\u001b[0m \u001b[0;32mdef\u001b[0m \u001b[0mcall_function\u001b[0m\u001b[0;34m(\u001b[0m\u001b[0mx\u001b[0m\u001b[0;34m)\u001b[0m\u001b[0;34m:\u001b[0m\u001b[0;34m\u001b[0m\u001b[0;34m\u001b[0m\u001b[0m\n\u001b[1;32m      2\u001b[0m     \u001b[0mndg\u001b[0m\u001b[0;34m,\u001b[0m \u001b[0mndoc\u001b[0m \u001b[0;34m=\u001b[0m \u001b[0mx\u001b[0m\u001b[0;34m[\u001b[0m\u001b[0;34m'NDG'\u001b[0m\u001b[0;34m]\u001b[0m\u001b[0;34m,\u001b[0m \u001b[0mx\u001b[0m\u001b[0;34m[\u001b[0m\u001b[0;34m'NDOC'\u001b[0m\u001b[0;34m]\u001b[0m\u001b[0;34m\u001b[0m\u001b[0;34m\u001b[0m\u001b[0m\n\u001b[0;32m----> 3\u001b[0;31m     \u001b[0mto_return\u001b[0m \u001b[0;34m=\u001b[0m \u001b[0mpart1\u001b[0m\u001b[0;34m+\u001b[0m\u001b[0mndg\u001b[0m\u001b[0;34m+\u001b[0m\u001b[0mpart2\u001b[0m\u001b[0;34m+\u001b[0m\u001b[0mndoc\u001b[0m\u001b[0;34m+\u001b[0m\u001b[0mpart3\u001b[0m\u001b[0;34m+\u001b[0m\u001b[0mstr\u001b[0m\u001b[0;34m(\u001b[0m\u001b[0mcounter\u001b[0m\u001b[0;34m)\u001b[0m\u001b[0;34m+\u001b[0m\u001b[0mpart4\u001b[0m\u001b[0;34m\u001b[0m\u001b[0;34m\u001b[0m\u001b[0m\n\u001b[0m\u001b[1;32m      4\u001b[0m     \u001b[0mcounter\u001b[0m \u001b[0;34m+=\u001b[0m \u001b[0;36m1\u001b[0m\u001b[0;34m\u001b[0m\u001b[0;34m\u001b[0m\u001b[0m\n\u001b[1;32m      5\u001b[0m     \u001b[0;32mreturn\u001b[0m \u001b[0mto_return\u001b[0m\u001b[0;34m\u001b[0m\u001b[0;34m\u001b[0m\u001b[0m\n",
      "\u001b[0;31mUnboundLocalError\u001b[0m: (\"local variable 'counter' referenced before assignment\", 'occurred at index 0')"
     ]
    }
   ],
   "source": [
    "df['CALL'] = df.apply(lambda x: call_function(x), axis=1)"
   ]
  },
  {
   "cell_type": "code",
   "execution_count": 68,
   "metadata": {},
   "outputs": [
    {
     "ename": "KeyError",
     "evalue": "'CALL'",
     "output_type": "error",
     "traceback": [
      "\u001b[0;31m---------------------------------------------------------------------------\u001b[0m",
      "\u001b[0;31mKeyError\u001b[0m                                  Traceback (most recent call last)",
      "\u001b[0;32m~/anaconda3/lib/python3.7/site-packages/pandas/core/indexes/base.py\u001b[0m in \u001b[0;36mget_loc\u001b[0;34m(self, key, method, tolerance)\u001b[0m\n\u001b[1;32m   2656\u001b[0m             \u001b[0;32mtry\u001b[0m\u001b[0;34m:\u001b[0m\u001b[0;34m\u001b[0m\u001b[0;34m\u001b[0m\u001b[0m\n\u001b[0;32m-> 2657\u001b[0;31m                 \u001b[0;32mreturn\u001b[0m \u001b[0mself\u001b[0m\u001b[0;34m.\u001b[0m\u001b[0m_engine\u001b[0m\u001b[0;34m.\u001b[0m\u001b[0mget_loc\u001b[0m\u001b[0;34m(\u001b[0m\u001b[0mkey\u001b[0m\u001b[0;34m)\u001b[0m\u001b[0;34m\u001b[0m\u001b[0;34m\u001b[0m\u001b[0m\n\u001b[0m\u001b[1;32m   2658\u001b[0m             \u001b[0;32mexcept\u001b[0m \u001b[0mKeyError\u001b[0m\u001b[0;34m:\u001b[0m\u001b[0;34m\u001b[0m\u001b[0;34m\u001b[0m\u001b[0m\n",
      "\u001b[0;32mpandas/_libs/index.pyx\u001b[0m in \u001b[0;36mpandas._libs.index.IndexEngine.get_loc\u001b[0;34m()\u001b[0m\n",
      "\u001b[0;32mpandas/_libs/index.pyx\u001b[0m in \u001b[0;36mpandas._libs.index.IndexEngine.get_loc\u001b[0;34m()\u001b[0m\n",
      "\u001b[0;32mpandas/_libs/hashtable_class_helper.pxi\u001b[0m in \u001b[0;36mpandas._libs.hashtable.PyObjectHashTable.get_item\u001b[0;34m()\u001b[0m\n",
      "\u001b[0;32mpandas/_libs/hashtable_class_helper.pxi\u001b[0m in \u001b[0;36mpandas._libs.hashtable.PyObjectHashTable.get_item\u001b[0;34m()\u001b[0m\n",
      "\u001b[0;31mKeyError\u001b[0m: 'CALL'",
      "\nDuring handling of the above exception, another exception occurred:\n",
      "\u001b[0;31mKeyError\u001b[0m                                  Traceback (most recent call last)",
      "\u001b[0;32m<ipython-input-68-9209e53f100a>\u001b[0m in \u001b[0;36m<module>\u001b[0;34m\u001b[0m\n\u001b[0;32m----> 1\u001b[0;31m \u001b[0mprint\u001b[0m\u001b[0;34m(\u001b[0m\u001b[0mdf\u001b[0m\u001b[0;34m[\u001b[0m\u001b[0;34m'CALL'\u001b[0m\u001b[0;34m]\u001b[0m\u001b[0;34m[\u001b[0m\u001b[0;36m0\u001b[0m\u001b[0;34m]\u001b[0m\u001b[0;34m)\u001b[0m\u001b[0;34m\u001b[0m\u001b[0;34m\u001b[0m\u001b[0m\n\u001b[0m",
      "\u001b[0;32m~/anaconda3/lib/python3.7/site-packages/pandas/core/frame.py\u001b[0m in \u001b[0;36m__getitem__\u001b[0;34m(self, key)\u001b[0m\n\u001b[1;32m   2925\u001b[0m             \u001b[0;32mif\u001b[0m \u001b[0mself\u001b[0m\u001b[0;34m.\u001b[0m\u001b[0mcolumns\u001b[0m\u001b[0;34m.\u001b[0m\u001b[0mnlevels\u001b[0m \u001b[0;34m>\u001b[0m \u001b[0;36m1\u001b[0m\u001b[0;34m:\u001b[0m\u001b[0;34m\u001b[0m\u001b[0;34m\u001b[0m\u001b[0m\n\u001b[1;32m   2926\u001b[0m                 \u001b[0;32mreturn\u001b[0m \u001b[0mself\u001b[0m\u001b[0;34m.\u001b[0m\u001b[0m_getitem_multilevel\u001b[0m\u001b[0;34m(\u001b[0m\u001b[0mkey\u001b[0m\u001b[0;34m)\u001b[0m\u001b[0;34m\u001b[0m\u001b[0;34m\u001b[0m\u001b[0m\n\u001b[0;32m-> 2927\u001b[0;31m             \u001b[0mindexer\u001b[0m \u001b[0;34m=\u001b[0m \u001b[0mself\u001b[0m\u001b[0;34m.\u001b[0m\u001b[0mcolumns\u001b[0m\u001b[0;34m.\u001b[0m\u001b[0mget_loc\u001b[0m\u001b[0;34m(\u001b[0m\u001b[0mkey\u001b[0m\u001b[0;34m)\u001b[0m\u001b[0;34m\u001b[0m\u001b[0;34m\u001b[0m\u001b[0m\n\u001b[0m\u001b[1;32m   2928\u001b[0m             \u001b[0;32mif\u001b[0m \u001b[0mis_integer\u001b[0m\u001b[0;34m(\u001b[0m\u001b[0mindexer\u001b[0m\u001b[0;34m)\u001b[0m\u001b[0;34m:\u001b[0m\u001b[0;34m\u001b[0m\u001b[0;34m\u001b[0m\u001b[0m\n\u001b[1;32m   2929\u001b[0m                 \u001b[0mindexer\u001b[0m \u001b[0;34m=\u001b[0m \u001b[0;34m[\u001b[0m\u001b[0mindexer\u001b[0m\u001b[0;34m]\u001b[0m\u001b[0;34m\u001b[0m\u001b[0;34m\u001b[0m\u001b[0m\n",
      "\u001b[0;32m~/anaconda3/lib/python3.7/site-packages/pandas/core/indexes/base.py\u001b[0m in \u001b[0;36mget_loc\u001b[0;34m(self, key, method, tolerance)\u001b[0m\n\u001b[1;32m   2657\u001b[0m                 \u001b[0;32mreturn\u001b[0m \u001b[0mself\u001b[0m\u001b[0;34m.\u001b[0m\u001b[0m_engine\u001b[0m\u001b[0;34m.\u001b[0m\u001b[0mget_loc\u001b[0m\u001b[0;34m(\u001b[0m\u001b[0mkey\u001b[0m\u001b[0;34m)\u001b[0m\u001b[0;34m\u001b[0m\u001b[0;34m\u001b[0m\u001b[0m\n\u001b[1;32m   2658\u001b[0m             \u001b[0;32mexcept\u001b[0m \u001b[0mKeyError\u001b[0m\u001b[0;34m:\u001b[0m\u001b[0;34m\u001b[0m\u001b[0;34m\u001b[0m\u001b[0m\n\u001b[0;32m-> 2659\u001b[0;31m                 \u001b[0;32mreturn\u001b[0m \u001b[0mself\u001b[0m\u001b[0;34m.\u001b[0m\u001b[0m_engine\u001b[0m\u001b[0;34m.\u001b[0m\u001b[0mget_loc\u001b[0m\u001b[0;34m(\u001b[0m\u001b[0mself\u001b[0m\u001b[0;34m.\u001b[0m\u001b[0m_maybe_cast_indexer\u001b[0m\u001b[0;34m(\u001b[0m\u001b[0mkey\u001b[0m\u001b[0;34m)\u001b[0m\u001b[0;34m)\u001b[0m\u001b[0;34m\u001b[0m\u001b[0;34m\u001b[0m\u001b[0m\n\u001b[0m\u001b[1;32m   2660\u001b[0m         \u001b[0mindexer\u001b[0m \u001b[0;34m=\u001b[0m \u001b[0mself\u001b[0m\u001b[0;34m.\u001b[0m\u001b[0mget_indexer\u001b[0m\u001b[0;34m(\u001b[0m\u001b[0;34m[\u001b[0m\u001b[0mkey\u001b[0m\u001b[0;34m]\u001b[0m\u001b[0;34m,\u001b[0m \u001b[0mmethod\u001b[0m\u001b[0;34m=\u001b[0m\u001b[0mmethod\u001b[0m\u001b[0;34m,\u001b[0m \u001b[0mtolerance\u001b[0m\u001b[0;34m=\u001b[0m\u001b[0mtolerance\u001b[0m\u001b[0;34m)\u001b[0m\u001b[0;34m\u001b[0m\u001b[0;34m\u001b[0m\u001b[0m\n\u001b[1;32m   2661\u001b[0m         \u001b[0;32mif\u001b[0m \u001b[0mindexer\u001b[0m\u001b[0;34m.\u001b[0m\u001b[0mndim\u001b[0m \u001b[0;34m>\u001b[0m \u001b[0;36m1\u001b[0m \u001b[0;32mor\u001b[0m \u001b[0mindexer\u001b[0m\u001b[0;34m.\u001b[0m\u001b[0msize\u001b[0m \u001b[0;34m>\u001b[0m \u001b[0;36m1\u001b[0m\u001b[0;34m:\u001b[0m\u001b[0;34m\u001b[0m\u001b[0;34m\u001b[0m\u001b[0m\n",
      "\u001b[0;32mpandas/_libs/index.pyx\u001b[0m in \u001b[0;36mpandas._libs.index.IndexEngine.get_loc\u001b[0;34m()\u001b[0m\n",
      "\u001b[0;32mpandas/_libs/index.pyx\u001b[0m in \u001b[0;36mpandas._libs.index.IndexEngine.get_loc\u001b[0;34m()\u001b[0m\n",
      "\u001b[0;32mpandas/_libs/hashtable_class_helper.pxi\u001b[0m in \u001b[0;36mpandas._libs.hashtable.PyObjectHashTable.get_item\u001b[0;34m()\u001b[0m\n",
      "\u001b[0;32mpandas/_libs/hashtable_class_helper.pxi\u001b[0m in \u001b[0;36mpandas._libs.hashtable.PyObjectHashTable.get_item\u001b[0;34m()\u001b[0m\n",
      "\u001b[0;31mKeyError\u001b[0m: 'CALL'"
     ]
    }
   ],
   "source": [
    "print(df['CALL'][0])"
   ]
  },
  {
   "cell_type": "code",
   "execution_count": 65,
   "metadata": {},
   "outputs": [
    {
     "data": {
      "text/plain": [
       "6"
      ]
     },
     "execution_count": 65,
     "metadata": {},
     "output_type": "execute_result"
    }
   ],
   "source": [
    "def counted(f):\n",
    "    def wrapped(*args, **kwargs):\n",
    "        wrapped.calls += 1\n",
    "        return f(*args, **kwargs)\n",
    "    wrapped.calls = 0\n",
    "    return wrapped\n",
    "\n",
    "class MyList(list):\n",
    "    @counted\n",
    "    def pop(self, *args, **kwargs):\n",
    "        return list.pop(self, *args, **kwargs)\n",
    "\n",
    "x = MyList([1, 2, 3, 4, 5, 8, 9])\n",
    "for i in range(6):\n",
    "    x.pop()\n",
    "\n",
    "x.pop.calls # prints 3"
   ]
  },
  {
   "cell_type": "code",
   "execution_count": 92,
   "metadata": {},
   "outputs": [],
   "source": [
    "class Counter:\n",
    "    c = 0\n",
    "    def __init__(self,c=0):\n",
    "        self.c = c\n",
    "    \n",
    "    @classmethod\n",
    "    def increment(self):\n",
    "        print('ciao')\n",
    "        self.c+=1\n",
    "        "
   ]
  },
  {
   "cell_type": "code",
   "execution_count": 95,
   "metadata": {},
   "outputs": [],
   "source": [
    "counter = Counter()"
   ]
  },
  {
   "cell_type": "code",
   "execution_count": 96,
   "metadata": {},
   "outputs": [
    {
     "data": {
      "text/plain": [
       "0"
      ]
     },
     "execution_count": 96,
     "metadata": {},
     "output_type": "execute_result"
    }
   ],
   "source": [
    "counter.c"
   ]
  },
  {
   "cell_type": "code",
   "execution_count": 97,
   "metadata": {},
   "outputs": [
    {
     "name": "stdout",
     "output_type": "stream",
     "text": [
      "ciao\n"
     ]
    },
    {
     "data": {
      "text/plain": [
       "0"
      ]
     },
     "execution_count": 97,
     "metadata": {},
     "output_type": "execute_result"
    }
   ],
   "source": [
    "counter.increment()\n",
    "counter.c"
   ]
  },
  {
   "cell_type": "code",
   "execution_count": 90,
   "metadata": {},
   "outputs": [
    {
     "name": "stdout",
     "output_type": "stream",
     "text": [
      "Jessa's age is: 20\n",
      "Joy's age is: 27\n"
     ]
    }
   ],
   "source": [
    "from datetime import date\n",
    "\n",
    "class Student:\n",
    "    def __init__(self, name, age):\n",
    "        self.name = name\n",
    "        self.age = age\n",
    "\n",
    "    @classmethod\n",
    "    def calculate_age(cls, name, birth_year):\n",
    "        # calculate age an set it as a age\n",
    "        # return new object\n",
    "        return cls(name, date.today().year - birth_year)\n",
    "\n",
    "    def show(self):\n",
    "        print(self.name + \"'s age is: \" + str(self.age))\n",
    "\n",
    "jessa = Student('Jessa', 20)\n",
    "jessa.show()\n",
    "\n",
    "# create new object using the factory method\n",
    "joy = Student.calculate_age(\"Joy\", 1995)\n",
    "joy.show()"
   ]
  },
  {
   "cell_type": "code",
   "execution_count": null,
   "metadata": {},
   "outputs": [],
   "source": []
  }
 ],
 "metadata": {
  "kernelspec": {
   "display_name": "Python 3",
   "language": "python",
   "name": "python3"
  },
  "language_info": {
   "codemirror_mode": {
    "name": "ipython",
    "version": 3
   },
   "file_extension": ".py",
   "mimetype": "text/x-python",
   "name": "python",
   "nbconvert_exporter": "python",
   "pygments_lexer": "ipython3",
   "version": "3.7.3"
  }
 },
 "nbformat": 4,
 "nbformat_minor": 2
}
